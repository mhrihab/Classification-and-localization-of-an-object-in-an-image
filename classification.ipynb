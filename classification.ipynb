# Import the necessary libraries for data augmentation

from PIL import Image
import os
from tqdm import tqdm

#define the path of your training data 
path = ".../pcb/DeepPCB-master/data/train"
labels = os.listdir(".../pcb/DeepPCB-master/data/train")

# In this tutoriel I will just rotate the images because otherwise I will risk to loose some informations but you are free to use other augmentation techniques

for label in labels:
    print("Augmenting data of: ", label)
    files = os.listdir(".../pcb/DeepPCB-master/data/train/" + label)
    for file in tqdm(files):
        img = Image.open(path + "/" + label + "/" + file)
        img_rotate1 = img.rotate(90)
        img_rotate2 = img.rotate(180)
        img_rotate3 = img.rotate(270)
        img_rotate1.save(path + "/" + label + "/" + file[:-4] + "rotate_90" +".jpg")
        img_rotate2.save(path + "/" + label + "/" + file[:-4] + "rotate_180" +".jpg")
        img_rotate3.save(path + "/" + label + "/" + file[:-4] + "rotate_270" +".jpg")
        
        
#Great! now we are going to start building the model using Keras
# PS: You can use tensorflow to build the model but Keras is built in Python which makes it way more user-friendly than TensorFlow so x).


#import libraries:

from keras.applications.mobilenet import MobileNet
from keras import layers
from keras.models import Model, load_model
from keras.preprocessing.image import ImageDataGenerator

# Here we are going to use a transfer learning model "MobileNet", I choosed MobileNet because it is lightweight in its architecture, you can find more details in this tutoriel (https://towardsdatascience.com/transfer-learning-using-mobilenet-and-keras-c75daf7ff299)

model = MobileNet(include_top = False)
for layer in model.layers[:50]:
    layer.trainable == False
for layer in model.layers[50:]:
    layer.trainable = True
    
# Here I used the last 50 layers of MobileNet layers, there's no rule to choose which layers to use you just need to try different cases and keep the one that gives you the best accuracy

x = model.output
x = layers.GlobalAveragePooling2D()(x)
x = layers.Dense(2, activation = 'softmax')(x)
PCB_model = Model(model.input, x)

generator = ImageDataGenerator(rescale = 1/255)
train_gen = generator.flow_from_directory( ".../pcb/DeepPCB-master/data/train", target_size=(200, 200), batch_size=32,class_mode='categorical')
PCB_model.compile(loss = 'categorical_crossentropy', optimizer = "Adam", metrics=["accuracy"])
PCB_model.fit_generator(train_gen, epochs = 20)



# load the model
model = load_model('PCB_model.h5')


import matplotlib.pyplot as plt
from PIL import Image
import numpy as np
def load_img(path):
    img = Image.open(path)
    img = img.resize((200, 200))
    img = img.convert("RGB")
    img = np.asarray(img)
    img = img/255
    img = np.expand_dims(img, axis = 0)
    return img
img = load_img(".../pcb/DeepPCB-master/data/test/no defect/77000079_temp.jpg")
print(img.shape)

pred = model.predict(img)
print('Object: ', pred[0][1]*100 , '%', '\n','No object: ', pred[0][0]*100 , '%')
